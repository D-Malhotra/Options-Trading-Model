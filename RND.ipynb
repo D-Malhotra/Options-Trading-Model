{
 "cells": [
  {
   "cell_type": "code",
   "execution_count": null,
   "id": "cb4ddf0c",
   "metadata": {},
   "outputs": [],
   "source": [
    "import numpy as np \n",
    "from datetime import datetime\n",
    "import pandas as pd\n",
    "from scipy.stats import norm \n",
    "from scipy.optimize import brentq\n",
    "from scipy.interpolate import CubicSpline\n",
    "from scipy.ndimage import gaussian_filter1d\n",
    "import matplotlib.pyplot as plt \n",
    "\n",
    "\n",
    "#load data which has expiry 31st Oct with current market price 755.40 and current risk free rate is 4.15%\n",
    "r = 0.00415\n",
    "S = 755.40\n",
    "today = \"27-09-2025\"\n",
    "df = pd.read_csv('/Users/deepak/Personal Projects/Quant/Projects/Options-Trading-Model/meta_options.csv')\n",
    "\n"
   ]
  },
  {
   "cell_type": "code",
   "execution_count": null,
   "id": "2509d7f1",
   "metadata": {},
   "outputs": [],
   "source": [
    "def time_till_expiry(todays_date:str, expiry_date:str):\n",
    "    \"\"\"Date in the form DD-MM-YYYY\"\"\"\n",
    "    # Convert strings to datetime objects\n",
    "    td = datetime.strptime(todays_date, \"%d-%m-%Y\")\n",
    "    ed = datetime.strptime(todays_date, \"%d-%m-%Y\")\n",
    "    return (ed-td).days\n"
   ]
  }
 ],
 "metadata": {
  "kernelspec": {
   "display_name": "Python 3",
   "language": "python",
   "name": "python3"
  },
  "language_info": {
   "name": "python",
   "version": "3.11.11"
  }
 },
 "nbformat": 4,
 "nbformat_minor": 5
}
