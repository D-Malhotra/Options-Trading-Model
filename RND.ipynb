{
 "cells": [
  {
   "cell_type": "code",
   "execution_count": null,
   "id": "cb4ddf0c",
   "metadata": {},
   "outputs": [],
   "source": [
    "import numpy as np \n",
    "from datetime import datetime\n",
    "import pandas as pd\n",
    "from scipy.stats import norm \n",
    "from scipy.optimize import brentq\n",
    "from scipy.interpolate import CubicSpline\n",
    "from scipy.ndimage import gaussian_filter1d\n",
    "import matplotlib.pyplot as plt \n",
    "\n",
    "\n",
    "#load data which has expiry 31st Oct with current market price 755.40 and current risk free rate is 4.15%\n",
    "r = 0.00415\n",
    "S = 755.40\n",
    "today = \"27-09-2025\"\n",
    "df = pd.read_csv('/Users/deepak/Personal Projects/Quant/Projects/Options-Trading-Model/meta_options.csv')\n",
    "\n"
   ]
  },
  {
   "cell_type": "markdown",
   "id": "3414a955",
   "metadata": {},
   "source": [
    "# Data Prep"
   ]
  },
  {
   "cell_type": "code",
   "execution_count": null,
   "id": "2509d7f1",
   "metadata": {},
   "outputs": [],
   "source": [
    "def time_till_expiry(todays_date:str, expiry_date:str):\n",
    "    \"\"\"Date in the form DD-MM-YYYY\"\"\"\n",
    "    # Convert strings to datetime objects\n",
    "    td = datetime.strptime(todays_date, \"%d-%m-%Y\")\n",
    "    ed = datetime.strptime(todays_date, \"%d-%m-%Y\")\n",
    "    return (ed-td).days\n",
    "\n",
    "def data_cleaning(file_path:str):\n",
    "    df = pd.read_csv(file_path)\n",
    "    df.drop(['Contract name', 'Last trade date (GMT-4)',\"% change\", 'Volume', 'Open interest', \"Change\"], axis=1)\n",
    "    df[\"price\"] = (df[\"Bid\"] + df[\"Ask\"])/2"
   ]
  },
  {
   "cell_type": "markdown",
   "id": "cd06745f",
   "metadata": {},
   "source": [
    "## BLACK-SCHOLES functions"
   ]
  },
  {
   "cell_type": "code",
   "execution_count": null,
   "id": "f7546dc3",
   "metadata": {},
   "outputs": [],
   "source": [
    "def European_options_pricer(S:float, K:float, T:int, r:float, vol:float):\n",
    "    \"\"\"\n",
    "    HELPER FUNCTION\n",
    "    S: Price of Underlying at t=0\n",
    "    K: Strike Price\n",
    "    T: Time till Expiry \n",
    "    r: Risk-free rate\n",
    "    vol: Implied Volatility\n",
    "    \"\"\"\n",
    "    expiry = T\n",
    "    d1_denom = vol * np.sqrt(expiry)\n",
    "    d1_num = np.log(S/K) + (r + 0.5 * vol**2)* expiry\n",
    "    d1 = d1_num/d1_denom\n",
    "    d2 = d1 - vol * np.sqrt(expiry)\n",
    "    return d1, d2\n",
    "\n",
    "def European_call_price(S:float, K:float, T:int, r:float, vol:float):\n",
    "    \"\"\"\n",
    "    S: Price of Underlying at t=0\n",
    "    K: Strike Price\n",
    "    T: Time till Expiry \n",
    "    r: Risk-free rate\n",
    "    vol: Implied Volatility\n",
    "    \"\"\"\n",
    "    expiry = T\n",
    "    d1, d2 = European_options_pricer(S, K, T, r, vol)\n",
    "    return S * norm.cdf(d1) - K*np.exp(-r * expiry)*norm.cdf(d2)\n",
    "\n",
    "def European_put_price(S, K, T, r, vol):\n",
    "    expiry = T\n",
    "    d1, d2 = European_options_pricer(S, K, T, r, vol)\n",
    "    return K * np.exp(-r * expiry) * norm.cdf(-d2) - S*norm.cdf(-d1)\n",
    "\n",
    "def price_to_vol(S:float, K:float, T:int, r:float, price:float, type:int, vol=0.8):\n",
    "    \"\"\"\n",
    "    Function which calculates the implied volatility from the options price\n",
    "    S: Price of Underlying at t=0\n",
    "    K: Strike Price\n",
    "    T: Time till Expiry \n",
    "    r: Risk-free rate\n",
    "    price: Price of the option\n",
    "    type: Enter 0 for call option and 1 for put option\n",
    "    vol: Volatility initial estimate\n",
    "    \"\"\"\n",
    "    # Function whose root is the implied volatility\n",
    "    def f(vol, S, K, T, r, price):\n",
    "        if type:\n",
    "            return European_put_price(S, K, T, r, vol) - price\n",
    "        else: \n",
    "            return European_call_price(S, K, T, r, vol) - price\n",
    "    \n",
    "    # Brent's method to find implied volatility\n",
    "    iv = brentq(f, 0.001, 3, args=(S, K, T, r, price, type))\n",
    "    return iv"
   ]
  },
  {
   "cell_type": "code",
   "execution_count": null,
   "id": "8651dc1f",
   "metadata": {},
   "outputs": [],
   "source": [
    "def IV_cubic(Strike:list, Price:list, type:int, T:int):\n",
    "    \"\"\"Creates a smooth IV across strikes\n",
    "    Strike: List of strike prices\n",
    "    Price: List of prices at the given strike\n",
    "    type: 0 for call, 1 for put\n",
    "    T: Time till expiry\n",
    "    \"\"\"\n",
    "    IV_list = []\n",
    "    for i in range(len(Strike)):\n",
    "        #Convert Prices into IV's\n",
    "        IV_list.append(price_to_vol(S, K=Strike[i], T=T, r=r, price=Price[i], type=type))\n",
    "    \n",
    "    IV_cubic_func = CubicSpline(Strike, IV_list)\n",
    "\n",
    "    #Plot cubic spline in IV space\n",
    "    IV_vals = IV_cubic_func(Strike)\n",
    "    plt.plot(Strike, IV_cubic_func(Strike))\n",
    "    plt.show()\n",
    "\n",
    "    #Smooth the function using a Gaussian Kernel \n",
    "    IV_smooth = gaussian_filter1d(IV_vals, sigma=0.01)\n",
    "\n",
    "    return IV_smooth   \n"
   ]
  },
  {
   "cell_type": "code",
   "execution_count": null,
   "id": "aa75f64a",
   "metadata": {},
   "outputs": [],
   "source": [
    "def RND(Strike:list, Price:list):\n",
    "    \"\"\"Returns the RND for the option\"\"\"\n",
    "    #x_[i] - x_[i-1]\n",
    "    h = Strike[1] - Strike[0]\n",
    "    first_deriv = np.gradient(Price, h)\n",
    "    second_deriv = np.gradient(first_deriv, h)\n",
    "\n",
    "    #RND is given by. \n",
    "    plt.plot(Strike, second_deriv)\n",
    "    plt.show()\n",
    "    return second_deriv\n"
   ]
  },
  {
   "cell_type": "code",
   "execution_count": null,
   "id": "754008eb",
   "metadata": {},
   "outputs": [],
   "source": []
  }
 ],
 "metadata": {
  "kernelspec": {
   "display_name": "Python 3",
   "language": "python",
   "name": "python3"
  },
  "language_info": {
   "name": "python",
   "version": "3.11.11"
  }
 },
 "nbformat": 4,
 "nbformat_minor": 5
}
